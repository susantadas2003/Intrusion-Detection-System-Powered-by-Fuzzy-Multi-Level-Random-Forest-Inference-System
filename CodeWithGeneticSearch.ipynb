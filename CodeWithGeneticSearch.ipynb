{
 "cells": [
  {
   "cell_type": "code",
   "execution_count": null,
   "metadata": {
    "id": "-8NM556erPSi"
   },
   "outputs": [],
   "source": [
    "𝐈𝐍𝐓𝐑𝐔𝐒𝐈𝐎𝐍 𝐃𝐄𝐓𝐄𝐂𝐓𝐈𝐎𝐍 𝐒𝐘𝐒𝐓𝐄𝐌 𝐔𝐒𝐈𝐍𝐆 𝐌𝐔𝐋𝐓𝐈-𝐋𝐄𝐕𝐄𝐋 𝐑𝐀𝐍𝐃𝐎𝐌 𝐅𝐎𝐑𝐄𝐒𝐓 𝐏𝐎𝐖𝐄𝐑𝐄𝐃 𝐁𝐘 𝐅𝐔𝐙𝐙𝐘 𝐈𝐍𝐅𝐄𝐑𝐄𝐍𝐂𝐄 𝐒𝐘𝐒𝐓𝐄𝐌"
   ]
  },
  {
   "cell_type": "code",
   "execution_count": 3,
   "metadata": {
    "colab": {
     "base_uri": "https://localhost:8080/"
    },
    "id": "1mUdbEerA28d",
    "outputId": "58bc94ec-f95b-43aa-e20a-eedb88bd7839"
   },
   "outputs": [
    {
     "name": "stdout",
     "output_type": "stream",
     "text": [
      "Requirement already satisfied: scikit-fuzzy in c:\\users\\subha\\appdata\\local\\programs\\python\\python312\\lib\\site-packages (0.5.0)\n"
     ]
    },
    {
     "name": "stderr",
     "output_type": "stream",
     "text": [
      "\n",
      "[notice] A new release of pip is available: 25.0 -> 25.1\n",
      "[notice] To update, run: python.exe -m pip install --upgrade pip\n"
     ]
    }
   ],
   "source": [
    "#Install required libraries\n",
    "!pip install scikit-fuzzy"
   ]
  },
  {
   "cell_type": "code",
   "execution_count": 4,
   "metadata": {
    "id": "poe-wiIC_Ssw"
   },
   "outputs": [],
   "source": [
    "# Import necessary libraries\n",
    "import pandas as pd\n",
    "import numpy as np\n",
    "import seaborn as sns\n",
    "import matplotlib.pyplot as plt\n",
    "from sklearn.model_selection import train_test_split\n",
    "from sklearn.preprocessing import LabelEncoder, StandardScaler\n",
    "from sklearn.ensemble import RandomForestClassifier\n",
    "from sklearn.metrics import accuracy_score, classification_report, confusion_matrix\n",
    "from skfuzzy import control as ctrl\n",
    "import skfuzzy as fuzz\n",
    "import random"
   ]
  },
  {
   "cell_type": "code",
   "execution_count": 5,
   "metadata": {
    "colab": {
     "base_uri": "https://localhost:8080/"
    },
    "id": "1fbYgPktCs0o",
    "outputId": "b852f33b-0d4e-442b-ab4e-e15fdce3661f"
   },
   "outputs": [],
   "source": [
    "# Try to import DEAP, install if not available\n",
    "try:\n",
    "    from deap import base, creator, tools, algorithms\n",
    "except ImportError:\n",
    "    import sys\n",
    "    !{sys.executable} -m pip install deap\n",
    "    from deap import base, creator, tools, algorithms\n",
    "\n",
    "import random"
   ]
  },
  {
   "cell_type": "code",
   "execution_count": 8,
   "metadata": {
    "id": "kkaN_SVHrPSp"
   },
   "outputs": [],
   "source": [
    "# ---------------------------\n",
    "# Load and preprocess the NSL-KDD dataset\n",
    "# ---------------------------"
   ]
  },
  {
   "cell_type": "code",
   "execution_count": 6,
   "metadata": {
    "id": "cnDVxMsiAaKV"
   },
   "outputs": [],
   "source": [
    "# Load NSL-KDD Dataset\n",
    "df = pd.read_csv(\"NSL-KDD.csv\")  # Ensure you have the dataset\n",
    "\n",
    "# Encode categorical features\n",
    "categorical_columns = ['protocol_type', 'service', 'flag', 'labels']\n",
    "label_encoders = {}\n",
    "for col in categorical_columns:\n",
    "    le = LabelEncoder()\n",
    "    df[col] = le.fit_transform(df[col])\n",
    "    label_encoders[col] = le\n",
    "\n",
    "# Split features and labels\n",
    "X = df.drop(columns=['labels'])\n",
    "y = df['labels']\n",
    "\n",
    "# Normalize feature values for better training\n",
    "scaler = StandardScaler()\n",
    "X_scaled = scaler.fit_transform(X)"
   ]
  },
  {
   "cell_type": "code",
   "execution_count": 13,
   "metadata": {
    "id": "3YRs87tErPSq"
   },
   "outputs": [],
   "source": [
    "# ---------------------------\n",
    "# Feature Selection Phase\n",
    "# ---------------------------"
   ]
  },
  {
   "cell_type": "code",
   "execution_count": 7,
   "metadata": {
    "colab": {
     "base_uri": "https://localhost:8080/"
    },
    "id": "pYH8DWZ-BRHy",
    "outputId": "385d7fdb-e0d8-4d0d-f50c-53057eb45339"
   },
   "outputs": [
    {
     "name": "stdout",
     "output_type": "stream",
     "text": [
      "gen\tnevals\n",
      "0  \t10    \n",
      "1  \t8     \n",
      "2  \t3     \n",
      "3  \t6     \n",
      "4  \t7     \n",
      "5  \t9     \n"
     ]
    }
   ],
   "source": [
    "# Step 1: Correlation-Based Feature Selection\n",
    "# Select top 20 features based on their correlation with others\n",
    "\n",
    "correlation_matrix = pd.DataFrame(X_scaled).corr().abs()\n",
    "selected_features = correlation_matrix.mean().nlargest(20).index  # Select top 20 correlated features\n",
    "X_selected = X_scaled[:, selected_features]\n",
    "\n",
    "# Step 2: Genetic Algorithm (GA) for Optimized Feature Selection\n",
    "# Define fitness function to maximize Random Forest accuracy\n",
    "def fitness_function(individual):\n",
    "    selected_indices = [i for i, bit in enumerate(individual) if bit == 1]\n",
    "    if not selected_indices:\n",
    "        return 0.,  # No features selected => zero fitness\n",
    "    X_train_fs, X_test_fs, y_train, y_test = train_test_split(X_scaled[:, selected_indices], y, test_size=0.2, random_state=42)\n",
    "    clf = RandomForestClassifier(n_estimators=100, random_state=42)\n",
    "    clf.fit(X_train_fs, y_train)\n",
    "    y_pred = clf.predict(X_test_fs)\n",
    "    return accuracy_score(y_test, y_pred),\n",
    "\n",
    "# Genetic Algorithm Initialization\n",
    "creator.create(\"FitnessMax\", base.Fitness, weights=(1.0,))\n",
    "creator.create(\"Individual\", list, fitness=creator.FitnessMax)\n",
    "toolbox = base.Toolbox()\n",
    "toolbox.register(\"attr_bool\", random.randint, 0, 1)\n",
    "toolbox.register(\"individual\", tools.initRepeat, creator.Individual, toolbox.attr_bool, n=len(X_scaled[0]))\n",
    "toolbox.register(\"population\", tools.initRepeat, list, toolbox.individual)\n",
    "toolbox.register(\"evaluate\", fitness_function)\n",
    "toolbox.register(\"mate\", tools.cxTwoPoint)\n",
    "toolbox.register(\"mutate\", tools.mutFlipBit, indpb=0.05)\n",
    "toolbox.register(\"select\", tools.selTournament, tournsize=3)\n",
    "\n",
    "# Run Genetic Algorithm\n",
    "population = toolbox.population(n=10) # Small population for faster execution\n",
    "algorithms.eaSimple(population, toolbox, cxpb=0.5, mutpb=0.2, ngen=5, verbose=True)\n",
    "\n",
    "# Select the best individual (best feature subset)\n",
    "best_individual = tools.selBest(population, k=1)[0]\n",
    "selected_indices = [i for i, bit in enumerate(best_individual) if bit == 1]\n",
    "X_final = X_scaled[:, selected_indices]\n"
   ]
  },
  {
   "cell_type": "code",
   "execution_count": 15,
   "metadata": {
    "id": "na-rm_U3rPSs"
   },
   "outputs": [],
   "source": [
    "# ---------------------------\n",
    "# Split Dataset for Training and Testing\n",
    "# ---------------------------"
   ]
  },
  {
   "cell_type": "code",
   "execution_count": 8,
   "metadata": {
    "id": "a_7MVvK3DAhm"
   },
   "outputs": [],
   "source": [
    "# Split dataset\n",
    "X_train, X_test, y_train, y_test = train_test_split(X_final, y, test_size=0.2, random_state=42)\n"
   ]
  },
  {
   "cell_type": "code",
   "execution_count": 17,
   "metadata": {
    "id": "I9k3-FFhrPSu"
   },
   "outputs": [],
   "source": [
    "# ---------------------------\n",
    "# Multi-Level Random Forest Classification\n",
    "# ---------------------------"
   ]
  },
  {
   "cell_type": "code",
   "execution_count": 9,
   "metadata": {
    "id": "WKKFH9yerPSu"
   },
   "outputs": [],
   "source": [
    "# Level-1 Random Forest (Detection)\n",
    "rf_level1 = RandomForestClassifier(n_estimators=100, random_state=42)\n",
    "rf_level1.fit(X_train, y_train)\n",
    "y_pred_level1 = rf_level1.predict(X_train)\n",
    "\n",
    "# Level-2 Random Forest (Refinement)\n",
    "rf_level2 = RandomForestClassifier(n_estimators=50, random_state=42)\n",
    "rf_level2.fit(X_train, y_pred_level1)\n",
    "y_pred_final = rf_level2.predict(X_test)\n"
   ]
  },
  {
   "cell_type": "code",
   "execution_count": 19,
   "metadata": {
    "id": "JYs-YF2wrPSv"
   },
   "outputs": [],
   "source": [
    "# ---------------------------\n",
    "# Reverse Label Encoding for better readability\n",
    "# ---------------------------"
   ]
  },
  {
   "cell_type": "code",
   "execution_count": 10,
   "metadata": {
    "id": "4328EjrUrPSv"
   },
   "outputs": [],
   "source": [
    "# Map back encoded labels to their original names\n",
    "y_test_labels = label_encoders['labels'].inverse_transform(y_test)\n",
    "y_pred_labels = label_encoders['labels'].inverse_transform(y_pred_final)"
   ]
  },
  {
   "cell_type": "code",
   "execution_count": 21,
   "metadata": {
    "id": "OLd0SWMXrPSw"
   },
   "outputs": [],
   "source": [
    "# ---------------------------\n",
    "# Fuzzy Inference System (FIS) for Severity Assessment\n",
    "# ---------------------------"
   ]
  },
  {
   "cell_type": "code",
   "execution_count": 11,
   "metadata": {
    "colab": {
     "base_uri": "https://localhost:8080/"
    },
    "id": "N24ab1TXDegR",
    "outputId": "82cc54be-8cb1-4ad0-c534-d02ebe6a0f35"
   },
   "outputs": [
    {
     "name": "stdout",
     "output_type": "stream",
     "text": [
      "Severity Assessments Example: ['Low', 'Low', 'Low', 'Low', 'Low', 'Low', 'Low', 'Low', 'Low', 'Low']\n"
     ]
    }
   ],
   "source": [
    "# Define severity scale and membership functions\n",
    "severity = np.arange(0, 101, 1)\n",
    "low = fuzz.trimf(severity, [0, 0, 50])\n",
    "medium = fuzz.trimf(severity, [30, 50, 70])\n",
    "high = fuzz.trimf(severity, [60, 100, 100])\n",
    "\n",
    "\n",
    "# Define severity assessment function\n",
    "def assess_severity(prob):\n",
    "    if prob < 0.5:\n",
    "        return \"Low\"\n",
    "    elif 0.5 <= prob < 0.8:\n",
    "        return \"Medium\"\n",
    "    else:\n",
    "        return \"High\"\n",
    "\n",
    "# Apply FIS to refine classification\n",
    "rf_probs = rf_level2.predict_proba(X_test)[:, 1]\n",
    "severity_assessments = [assess_severity(prob) for prob in rf_probs]\n",
    "print(\"Severity Assessments Example:\", severity_assessments[:10])"
   ]
  },
  {
   "cell_type": "code",
   "execution_count": 12,
   "metadata": {
    "colab": {
     "base_uri": "https://localhost:8080/"
    },
    "id": "6FwKyHwDDiRc",
    "outputId": "c0a430af-f472-4b06-e733-d0127033d2a0"
   },
   "outputs": [
    {
     "name": "stdout",
     "output_type": "stream",
     "text": [
      "Accuracy: 0.9860279441117764\n",
      "                 precision    recall  f1-score   support\n",
      "\n",
      "        apache2       1.00      0.95      0.98        42\n",
      "           back       1.00      1.00      1.00        33\n",
      "buffer_overflow       0.50      0.17      0.25         6\n",
      "   guess_passwd       1.00      0.98      0.99        90\n",
      "     httptunnel       0.75      1.00      0.86         6\n",
      "           imap       0.00      0.00      0.00         1\n",
      "        ipsweep       0.99      0.94      0.96        82\n",
      "           land       0.00      0.00      0.00         2\n",
      "     loadmodule       0.00      0.00      0.00         1\n",
      "       mailbomb       1.00      1.00      1.00        20\n",
      "          mscan       1.00      0.98      0.99        56\n",
      "       multihop       0.00      0.00      0.00         1\n",
      "          named       0.00      0.00      0.00         1\n",
      "        neptune       1.00      1.00      1.00      1374\n",
      "           nmap       0.95      1.00      0.97        37\n",
      "         normal       0.98      1.00      0.99      2239\n",
      "            pod       1.00      1.00      1.00         6\n",
      "      portsweep       0.99      0.96      0.97        77\n",
      "   processtable       1.00      1.00      1.00        39\n",
      "             ps       0.33      1.00      0.50         1\n",
      "        rootkit       0.00      0.00      0.00         2\n",
      "          saint       0.81      0.72      0.76        18\n",
      "          satan       0.93      0.97      0.95       132\n",
      "          smurf       1.00      1.00      1.00       105\n",
      "  snmpgetattack       1.00      0.36      0.53        11\n",
      "      snmpguess       1.00      0.89      0.94        18\n",
      "       teardrop       0.91      1.00      0.95        29\n",
      "    warezclient       1.00      0.89      0.94        18\n",
      "    warezmaster       0.98      0.97      0.97        58\n",
      "          xlock       0.00      0.00      0.00         2\n",
      "         xsnoop       0.00      0.00      0.00         1\n",
      "          xterm       0.00      0.00      0.00         1\n",
      "\n",
      "       accuracy                           0.99      4509\n",
      "      macro avg       0.66      0.65      0.64      4509\n",
      "   weighted avg       0.98      0.99      0.98      4509\n",
      "\n"
     ]
    },
    {
     "name": "stderr",
     "output_type": "stream",
     "text": [
      "C:\\Users\\subha\\AppData\\Local\\Programs\\Python\\Python312\\Lib\\site-packages\\sklearn\\metrics\\_classification.py:1531: UndefinedMetricWarning: Precision is ill-defined and being set to 0.0 in labels with no predicted samples. Use `zero_division` parameter to control this behavior.\n",
      "  _warn_prf(average, modifier, f\"{metric.capitalize()} is\", len(result))\n",
      "C:\\Users\\subha\\AppData\\Local\\Programs\\Python\\Python312\\Lib\\site-packages\\sklearn\\metrics\\_classification.py:1531: UndefinedMetricWarning: Precision is ill-defined and being set to 0.0 in labels with no predicted samples. Use `zero_division` parameter to control this behavior.\n",
      "  _warn_prf(average, modifier, f\"{metric.capitalize()} is\", len(result))\n",
      "C:\\Users\\subha\\AppData\\Local\\Programs\\Python\\Python312\\Lib\\site-packages\\sklearn\\metrics\\_classification.py:1531: UndefinedMetricWarning: Precision is ill-defined and being set to 0.0 in labels with no predicted samples. Use `zero_division` parameter to control this behavior.\n",
      "  _warn_prf(average, modifier, f\"{metric.capitalize()} is\", len(result))\n"
     ]
    }
   ],
   "source": [
    "# Evaluate Performance\n",
    "print(\"Accuracy:\", accuracy_score(y_test, y_pred_final))\n",
    "print(classification_report(y_test_labels, y_pred_labels))"
   ]
  },
  {
   "cell_type": "code",
   "execution_count": 13,
   "metadata": {
    "colab": {
     "base_uri": "https://localhost:8080/",
     "height": 472
    },
    "id": "JsxQJpE8Drzs",
    "outputId": "69b388a2-11d5-401e-aae3-d96726e2710d"
   },
   "outputs": [
    {
     "data": {
      "image/png": "[encoded data removed]",
      "text/plain": [
       "<Figure size 640x480 with 2 Axes>"
      ]
     },
     "metadata": {},
     "output_type": "display_data"
    }
   ],
   "source": [
    "# Confusion Matrix\n",
    "conf_matrix = confusion_matrix(y_test, y_pred_final)\n",
    "sns.heatmap(conf_matrix, annot=True, fmt=\"d\", cmap=\"Blues\")\n",
    "plt.xlabel(\"Predicted\")\n",
    "plt.ylabel(\"Actual\")\n",
    "plt.title(\"Confusion Matrix\")\n",
    "plt.show()"
   ]
  },
  {
   "cell_type": "code",
   "execution_count": 14,
   "metadata": {
    "id": "zGAM7mO8rPSz"
   },
   "outputs": [],
   "source": [
    "import pickle"
   ]
  },
  {
   "cell_type": "code",
   "execution_count": 15,
   "metadata": {},
   "outputs": [],
   "source": [
    "pickle.dump(label_encoders['labels'], open('label_encoder.sav', 'wb'))"
   ]
  },
  {
   "cell_type": "code",
   "execution_count": 16,
   "metadata": {},
   "outputs": [],
   "source": [
    "selected_indices = [i for i, bit in enumerate(best_individual) if bit == 1]\n",
    "with open('selected_indices.sav', 'wb') as f:\n",
    "    pickle.dump(selected_indices, f)"
   ]
  },
  {
   "cell_type": "code",
   "execution_count": 24,
   "metadata": {},
   "outputs": [],
   "source": [
    "#pickle.dump(selected_features, open('selected_features.sav', 'wb'))"
   ]
  },
  {
   "cell_type": "code",
   "execution_count": 17,
   "metadata": {
    "id": "S4u2sEhurfpO"
   },
   "outputs": [],
   "source": [
    "filename = 'intrusion_model.sav'\n",
    "# Assign the trained model to the variable 'model'\n",
    "# Assuming 'rf_level2' is the final trained model you want to save:\n",
    "model = rf_level2\n",
    "pickle.dump(model, open(filename, 'wb'))"
   ]
  },
  {
   "cell_type": "code",
   "execution_count": 18,
   "metadata": {
    "id": "w1pvBPzAthQF"
   },
   "outputs": [],
   "source": [
    "# loading the saved model\n",
    "loaded_model = pickle.load(open('intrusion_model.sav', 'rb'))"
   ]
  },
  {
   "cell_type": "code",
   "execution_count": null,
   "metadata": {},
   "outputs": [],
   "source": []
  }
 ],
 "metadata": {
  "colab": {
   "provenance": []
  },
  "kernelspec": {
   "display_name": "Python 3 (ipykernel)",
   "language": "python",
   "name": "python3"
  },
  "language_info": {
   "codemirror_mode": {
    "name": "ipython",
    "version": 3
   },
   "file_extension": ".py",
   "mimetype": "text/x-python",
   "name": "python",
   "nbconvert_exporter": "python",
   "pygments_lexer": "ipython3",
   "version": "3.12.1"
  }
 },
 "nbformat": 4,
 "nbformat_minor": 4
}
